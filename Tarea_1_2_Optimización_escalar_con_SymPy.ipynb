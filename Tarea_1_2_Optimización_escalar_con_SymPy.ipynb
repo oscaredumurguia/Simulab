{
  "nbformat": 4,
  "nbformat_minor": 0,
  "metadata": {
    "colab": {
      "provenance": [],
      "include_colab_link": true
    },
    "kernelspec": {
      "name": "python3",
      "display_name": "Python 3"
    },
    "language_info": {
      "name": "python"
    }
  },
  "cells": [
    {
      "cell_type": "markdown",
      "metadata": {
        "id": "view-in-github",
        "colab_type": "text"
      },
      "source": [
        "<a href=\"https://colab.research.google.com/github/oscaredumurguia/Simulab/blob/main/Tarea_1_2_Optimizaci%C3%B3n_escalar_con_SymPy.ipynb\" target=\"_parent\"><img src=\"https://colab.research.google.com/assets/colab-badge.svg\" alt=\"Open In Colab\"/></a>"
      ]
    },
    {
      "cell_type": "markdown",
      "source": [
        "# Problemas de optimización escalar\n",
        "Resuelva los siguientes problemas usando la librería `SymPy`. Use celdas en `Markdown` para explicar su procedimiento, así como los resultados obtenidos."
      ],
      "metadata": {
        "id": "wQWrkxnk8xAz"
      }
    },
    {
      "cell_type": "markdown",
      "source": [
        "1. El perímetro de un triángulo isósceles es de $10 cm$. ¿Cuánto deben medir sus lados para que el volumen del cuerpo generado por la rotación del triángulo en torno a su base sea el mayor posible? (Volumen de un cono $= \\frac{1}{3}\\pi r^2 h$, donde $r$ es el radio de la base y $h$ la altura del cono)."
      ],
      "metadata": {
        "id": "7c9ab28c82ao"
      }
    },
    {
      "cell_type": "code",
      "source": [
        "import sympy as sym\n",
        "import numpy as np\n",
        "import matplotlib.pyplot as plt"
      ],
      "metadata": {
        "id": "y6-eQ8Qx_5Tt"
      },
      "execution_count": 1,
      "outputs": []
    },
    {
      "cell_type": "markdown",
      "source": [
        "Perimetro = 10 cm,\n",
        "$$\n",
        "perimetro =l+l+l\n",
        "$$\n",
        "$$\n",
        "area=\\frac{base*altura}2\n",
        "$$\n",
        "$$\n",
        "volumen=\\frac{pi*r^2*h}3\n",
        "$$"
      ],
      "metadata": {
        "id": "iwz9zxxD9hcD"
      }
    },
    {
      "cell_type": "code",
      "source": [
        "y=sym.symbols('y')\n",
        "x=sym.symbols('x')"
      ],
      "metadata": {
        "id": "8KZymuDjJBoD"
      },
      "execution_count": 101,
      "outputs": []
    },
    {
      "cell_type": "code",
      "source": [
        "2*x+y==10\n",
        "x=(10-y)/2\n",
        "x"
      ],
      "metadata": {
        "colab": {
          "base_uri": "https://localhost:8080/",
          "height": 47
        },
        "id": "KtGoF9wEJtrv",
        "outputId": "9d631ce8-5ab3-4ef7-d0ee-24929595b382"
      },
      "execution_count": 102,
      "outputs": [
        {
          "output_type": "execute_result",
          "data": {
            "text/plain": [
              "5 - y/2"
            ],
            "text/latex": "$\\displaystyle 5 - \\frac{y}{2}$"
          },
          "metadata": {},
          "execution_count": 102
        }
      ]
    },
    {
      "cell_type": "code",
      "source": [
        "r=y/2\n",
        "r"
      ],
      "metadata": {
        "colab": {
          "base_uri": "https://localhost:8080/",
          "height": 47
        },
        "id": "Dmt5-HMdI5yS",
        "outputId": "e3d13ecf-53be-4dcb-cc56-eeb0aa82f255"
      },
      "execution_count": 112,
      "outputs": [
        {
          "output_type": "execute_result",
          "data": {
            "text/plain": [
              "y/2"
            ],
            "text/latex": "$\\displaystyle \\frac{y}{2}$"
          },
          "metadata": {},
          "execution_count": 112
        }
      ]
    },
    {
      "cell_type": "code",
      "source": [
        "h=sym.sqrt(x**2-(r**2))\n",
        "h"
      ],
      "metadata": {
        "colab": {
          "base_uri": "https://localhost:8080/",
          "height": 58
        },
        "id": "zZxqRQ6_KQPp",
        "outputId": "84ba1b24-a07d-4cb9-eb2b-e7674439e056"
      },
      "execution_count": 113,
      "outputs": [
        {
          "output_type": "execute_result",
          "data": {
            "text/plain": [
              "sqrt(-y**2/4 + (5 - y/2)**2)"
            ],
            "text/latex": "$\\displaystyle \\sqrt{- \\frac{y^{2}}{4} + \\left(5 - \\frac{y}{2}\\right)^{2}}$"
          },
          "metadata": {},
          "execution_count": 113
        }
      ]
    },
    {
      "cell_type": "code",
      "source": [
        "h=sym.sqrt(25-5*y)"
      ],
      "metadata": {
        "id": "hZFMyyxOne2c"
      },
      "execution_count": 115,
      "outputs": []
    },
    {
      "cell_type": "code",
      "source": [
        "V=sym.pi*r**2*h/3\n",
        "V"
      ],
      "metadata": {
        "id": "qjLq0X9r88bz",
        "colab": {
          "base_uri": "https://localhost:8080/",
          "height": 54
        },
        "outputId": "07d08a09-6fb2-4e61-8dac-a6138d381699"
      },
      "execution_count": 116,
      "outputs": [
        {
          "output_type": "execute_result",
          "data": {
            "text/plain": [
              "pi*y**2*sqrt(25 - 5*y)/12"
            ],
            "text/latex": "$\\displaystyle \\frac{\\pi y^{2} \\sqrt{25 - 5 y}}{12}$"
          },
          "metadata": {},
          "execution_count": 116
        }
      ]
    },
    {
      "cell_type": "code",
      "source": [
        "dt=sym.diff(V,y)\n",
        "dt"
      ],
      "metadata": {
        "colab": {
          "base_uri": "https://localhost:8080/",
          "height": 58
        },
        "id": "jjPR92NwIy1T",
        "outputId": "30b8bded-60f1-498e-f310-be83251f5c21"
      },
      "execution_count": 117,
      "outputs": [
        {
          "output_type": "execute_result",
          "data": {
            "text/plain": [
              "-5*pi*y**2/(24*sqrt(25 - 5*y)) + pi*y*sqrt(25 - 5*y)/6"
            ],
            "text/latex": "$\\displaystyle - \\frac{5 \\pi y^{2}}{24 \\sqrt{25 - 5 y}} + \\frac{\\pi y \\sqrt{25 - 5 y}}{6}$"
          },
          "metadata": {},
          "execution_count": 117
        }
      ]
    },
    {
      "cell_type": "code",
      "source": [
        "c=sym.solve(dt,y)\n",
        "c"
      ],
      "metadata": {
        "colab": {
          "base_uri": "https://localhost:8080/"
        },
        "id": "trEo2yjcKo3D",
        "outputId": "59cdca86-6748-43fd-88a9-042d5b5dc74d"
      },
      "execution_count": 122,
      "outputs": [
        {
          "output_type": "execute_result",
          "data": {
            "text/plain": [
              "[0, 4]"
            ]
          },
          "metadata": {},
          "execution_count": 122
        }
      ]
    },
    {
      "cell_type": "markdown",
      "source": [
        "**Resultado**\n",
        "\n",
        "Nos da como resultado 4 ya que no puede ser 0"
      ],
      "metadata": {
        "id": "Eapeh2FfZusf"
      }
    },
    {
      "cell_type": "code",
      "source": [
        "y=4\n",
        "x=(10-y)/2\n",
        "x"
      ],
      "metadata": {
        "colab": {
          "base_uri": "https://localhost:8080/"
        },
        "id": "U96sbiA8ZRY1",
        "outputId": "b9a2968f-1f14-4f79-cc35-26cc2f376a6a"
      },
      "execution_count": 74,
      "outputs": [
        {
          "output_type": "execute_result",
          "data": {
            "text/plain": [
              "3.0"
            ]
          },
          "metadata": {},
          "execution_count": 74
        }
      ]
    },
    {
      "cell_type": "markdown",
      "source": [
        "Este resultado tiene sentido ya que como es un triángulo isóseles tiene que dar la base de diferentes tamaño al que debe"
      ],
      "metadata": {
        "id": "pQgIeC8jdAJC"
      }
    },
    {
      "cell_type": "markdown",
      "source": [
        "2. Disponemos de una barra de aluminio de 6 metros para construir una portería de fútbol. Si queremos que el área de la portería sea máxima, ¿cuánto deben medir los postes y el travesaño?"
      ],
      "metadata": {
        "id": "1kvio5Eq8_J4"
      }
    },
    {
      "cell_type": "markdown",
      "source": [
        "En este ejercicio nos piden el aréa maxima que se puede hacer, aunque es un rectángulo esta área que tenemos que sacar debe de ser más como un triángulo ya que solo va a tener tres lados, porque la parte inferior no lleva aluminio\n",
        "\n",
        "$$\n",
        "Área \\ triángulo=\\frac{b*h}2\n",
        "$$\n",
        "$$\n",
        "Perímetro=6\n",
        "$$"
      ],
      "metadata": {
        "id": "WbV3LO6pdZgn"
      }
    },
    {
      "cell_type": "code",
      "source": [
        "a=sym.symbols('a')\n",
        "b=sym.symbols('b')"
      ],
      "metadata": {
        "id": "-BP2VQc_eXni"
      },
      "execution_count": 94,
      "outputs": []
    },
    {
      "cell_type": "code",
      "source": [
        "2*a+b==6\n",
        "a=(6-b)/2\n",
        "a"
      ],
      "metadata": {
        "colab": {
          "base_uri": "https://localhost:8080/",
          "height": 52
        },
        "id": "2BiObDt8eZZ7",
        "outputId": "0d1fdff4-7944-4fd3-9866-9f1a83a58a28"
      },
      "execution_count": 95,
      "outputs": [
        {
          "output_type": "execute_result",
          "data": {
            "text/plain": [
              "3 - b/2"
            ],
            "text/latex": "$\\displaystyle 3 - \\frac{b}{2}$"
          },
          "metadata": {},
          "execution_count": 95
        }
      ]
    },
    {
      "cell_type": "code",
      "source": [
        "area=b*a\n",
        "area"
      ],
      "metadata": {
        "colab": {
          "base_uri": "https://localhost:8080/",
          "height": 58
        },
        "id": "AAChxXXXg452",
        "outputId": "7226cd93-6aa4-4ae7-b150-c694592dedaa"
      },
      "execution_count": 96,
      "outputs": [
        {
          "output_type": "execute_result",
          "data": {
            "text/plain": [
              "b*(3 - b/2)"
            ],
            "text/latex": "$\\displaystyle b \\left(3 - \\frac{b}{2}\\right)$"
          },
          "metadata": {},
          "execution_count": 96
        }
      ]
    },
    {
      "cell_type": "code",
      "source": [
        "df=sym.diff(area,b)\n",
        "df"
      ],
      "metadata": {
        "colab": {
          "base_uri": "https://localhost:8080/",
          "height": 39
        },
        "id": "pJ0Pdq8yjZnT",
        "outputId": "06a60b00-4bfc-44ff-ca58-ca3c73144e05"
      },
      "execution_count": 97,
      "outputs": [
        {
          "output_type": "execute_result",
          "data": {
            "text/plain": [
              "3 - b"
            ],
            "text/latex": "$\\displaystyle 3 - b$"
          },
          "metadata": {},
          "execution_count": 97
        }
      ]
    },
    {
      "cell_type": "code",
      "source": [
        "c=sym.solve(df,b)\n",
        "c"
      ],
      "metadata": {
        "colab": {
          "base_uri": "https://localhost:8080/"
        },
        "id": "Q8LRjF2_gEQM",
        "outputId": "0c21198d-32b8-4bfb-8a1b-7c4ee9e82f02"
      },
      "execution_count": 98,
      "outputs": [
        {
          "output_type": "execute_result",
          "data": {
            "text/plain": [
              "[3]"
            ]
          },
          "metadata": {},
          "execution_count": 98
        }
      ]
    },
    {
      "cell_type": "code",
      "source": [
        "b=3\n",
        "a=(6-b)/2\n",
        "a"
      ],
      "metadata": {
        "colab": {
          "base_uri": "https://localhost:8080/"
        },
        "id": "FK5Uizw6gQRk",
        "outputId": "49759b24-607b-4ddb-b9e1-45a221203dce"
      },
      "execution_count": 100,
      "outputs": [
        {
          "output_type": "execute_result",
          "data": {
            "text/plain": [
              "1.5"
            ]
          },
          "metadata": {},
          "execution_count": 100
        }
      ]
    },
    {
      "cell_type": "markdown",
      "source": [
        "**Resultado**\n",
        "El resultado que nos da esto es la base 3cm y los lados 1.5cm"
      ],
      "metadata": {
        "id": "OkkWFWjsfq1p"
      }
    }
  ]
}