{
  "cells": [
    {
      "cell_type": "markdown",
      "metadata": {
        "id": "view-in-github",
        "colab_type": "text"
      },
      "source": [
        "<a href=\"https://colab.research.google.com/github/oscaredumurguia/Simulab/blob/main/Tarea_1_3_Programaci%C3%B3n_lineal.ipynb\" target=\"_parent\"><img src=\"https://colab.research.google.com/assets/colab-badge.svg\" alt=\"Open In Colab\"/></a>"
      ]
    },
    {
      "cell_type": "markdown",
      "metadata": {
        "id": "IY2C45HcOmSL"
      },
      "source": [
        "# Tarea - Programación lineal"
      ]
    },
    {
      "cell_type": "markdown",
      "metadata": {
        "id": "3GLYJHDzOmST"
      },
      "source": [
        "### Diseño de la Dieta Óptima\n",
        "\n",
        "Se quiere producir comida para gatos de la manera más barata, no obstante se debe también asegurar que se cumplan los datos requeridos de analisis nutricional. Por lo que se quiere variar la cantidad de cada ingrediente para cumplir con los estandares nutricionales. Los requisitos que se tienen es que en $100$ gramos, se deben tener **por lo menos** $8$ gramos de proteína y $6$ gramos de grasa. Así mismo, no se debe tener más de $2$ gramos de fibra y $0.4$ gramos de sal.  \n",
        "\n",
        "Los datos nutricionales se pueden obtener de la siguiente tabla:\n",
        "\n",
        "Ingrediente|Proteína|Grasa|Fibra|Sal\n",
        ":----|----|----|----|----\n",
        "Pollo|  10.0%|08.0%|00.1%|00.2%\n",
        "Carne|  20.0%|10.0%|00.5%|00.5%\n",
        "Cordero|15.0%|11.0%|00.5%|00.7%\n",
        "Arroz|  00.0%|01.0%|10.0%|00.2%\n",
        "Trigo|  04.0%|01.0%|15.0%|00.8%\n",
        "Gel|    00.0%|00.0%|00.0%|00.0%\n",
        "\n",
        "Los costos de cada producto son:\n",
        "\n",
        "Ingrediente|Costo por gramo\n",
        ":----|----\n",
        "Pollo|$\\$$0.013\n",
        "Carne|$\\$$0.008\n",
        "Cordero|$\\$$0.010\n",
        "Arroz|$\\$$0.002\n",
        "Trigo|$\\$$0.005\n",
        "Gel|$\\$$0.001    \n",
        "\n",
        "Lo que se busca optimizar en este caso es la cantidad de productos que se debe utilizar en la comida de gato, minimizando el costo total. Para simplificar la notación use las siguientes variables:\n",
        "\n",
        "+ $x_1:$ Gramos de pollo  \n",
        "+ $x_2:$ Gramos de carne  \n",
        "+ $x_3:$ Gramos de cordero  \n",
        "+ $x_4:$ Gramos de arroz  \n",
        "+ $x_5:$ Gramos de trigo  \n",
        "+ $x_6:$ Gramos de gel\n",
        "\n",
        "La tarea consiste en plantear el problemade programación lineal que permita satisfacer las necesidades alimenticias del gato al tiempo que minimice el costo total y resolverlo con `linprog`."
      ]
    },
    {
      "cell_type": "markdown",
      "source": [
        "$x_1+x_2+x_3+x_4+x_5+x_6=100\\ gramos$\n",
        "\n",
        "$.10x_1+.20x_2+.15x_3+.04x_5\\geq8\\ gramos\\ de\\ proteina$\n",
        "\n",
        "$.08x_1+.1x_2+.11x_3+.01x_4+.01x_5\\geq 6\\ gramos\\ de\\ grasa$\n",
        "\n",
        "$.001x_1+.005x_2+.005x_3+.1x_4+.15x_5\\leq 2\\ gramos\\ de\\ fibra$\n",
        "\n",
        "$.002x_1+.005x_2+.007x_3+.002x_4+.008x_5\\leq .4\\ gramos\\ de\\ sal$\n",
        "\n",
        "$.013x_1+.008x_2+.01x_3+.002x_4+.005x_5+.001x_6=Costo\n"
      ],
      "metadata": {
        "id": "w1T3lx4w05OC"
      }
    },
    {
      "cell_type": "code",
      "execution_count": 3,
      "metadata": {
        "id": "gIrjpz2wOmSX"
      },
      "outputs": [],
      "source": [
        "import numpy as np\n",
        "import scipy.optimize as opt"
      ]
    },
    {
      "cell_type": "code",
      "source": [
        "c = np.array([0.013, 0.008, 0.010, 0.002, 0.005, 0.001])\n",
        "A_ub = np.array([\n",
        "    [-0.10, -0.20, -0.15, 0, -0.04, 0],\n",
        "    [-0.08, -0.10, -0.11, -0.01, -0.01, 0],\n",
        "    [0.001, 0.005, 0.005, 0.100, 0.150, 0],\n",
        "    [0.002, 0.005, 0.007, 0.002, 0.008, 0]\n",
        "])\n",
        "b_ub = np.array([-8, -6, 2, 0.4])\n",
        "A_eq = np.array([[1, 1, 1, 1, 1, 1]])\n",
        "b_eq = np.array([100])"
      ],
      "metadata": {
        "id": "MFLIjtFq0FIo"
      },
      "execution_count": 60,
      "outputs": []
    },
    {
      "cell_type": "code",
      "source": [
        "opt.linprog(c, A_ub=A_ub, b_ub=b_ub, A_eq=A_eq, b_eq=b_eq)"
      ],
      "metadata": {
        "colab": {
          "base_uri": "https://localhost:8080/"
        },
        "id": "1nBCq7CG01du",
        "outputId": "207d6b7a-b726-45a3-e8c6-93fbd5655795"
      },
      "execution_count": 62,
      "outputs": [
        {
          "output_type": "execute_result",
          "data": {
            "text/plain": [
              "        message: Optimization terminated successfully. (HiGHS Status 7: Optimal)\n",
              "        success: True\n",
              "         status: 0\n",
              "            fun: 0.52\n",
              "              x: [ 0.000e+00  6.000e+01  0.000e+00  0.000e+00  0.000e+00\n",
              "                   4.000e+01]\n",
              "            nit: 2\n",
              "          lower:  residual: [ 0.000e+00  6.000e+01  0.000e+00  0.000e+00\n",
              "                              0.000e+00  4.000e+01]\n",
              "                 marginals: [ 6.400e-03  0.000e+00  1.300e-03  3.000e-04\n",
              "                              3.300e-03  0.000e+00]\n",
              "          upper:  residual: [       inf        inf        inf        inf\n",
              "                                    inf        inf]\n",
              "                 marginals: [ 0.000e+00  0.000e+00  0.000e+00  0.000e+00\n",
              "                              0.000e+00  0.000e+00]\n",
              "          eqlin:  residual: [ 0.000e+00]\n",
              "                 marginals: [ 1.000e-03]\n",
              "        ineqlin:  residual: [ 4.000e+00  0.000e+00  1.700e+00  1.000e-01]\n",
              "                 marginals: [-0.000e+00 -7.000e-02 -0.000e+00 -0.000e+00]\n",
              " mip_node_count: 0\n",
              " mip_dual_bound: 0.0\n",
              "        mip_gap: 0.0"
            ]
          },
          "metadata": {},
          "execution_count": 62
        }
      ]
    },
    {
      "cell_type": "markdown",
      "source": [
        "Dio como resultado que tiene que ser 60 gramos de carne y 40 de gel para que salga con el mejor costo posible"
      ],
      "metadata": {
        "id": "Iy3HRoxq7INB"
      }
    },
    {
      "cell_type": "markdown",
      "metadata": {
        "id": "gq8KPUVkOmSY"
      },
      "source": [
        "### Problema de distribución de energía eléctrica\n",
        "\n",
        "La Comisión Federal de Electricidad **(CFE)** dispone de tres plantas de generación para satisfacer la demanda diaria eléctrica en tres ciudades, Guadalajara, León y Morelia. Las plantas $1$, $2$ y $3$ pueden satisfacer $80$, $40$ y $60$ millones de KW al día respectivamente. Las necesidades de las ciudades de Guadalajara, León y Morelia son de $70$, $40$ y $70$ millones de Kw al día respectivamente.\n",
        "\n",
        "\n",
        "Los costos asociados al envío de suministro energético por cada millón de Kw entre cada planta y cada ciudad son los registrados en la siguiente tabla.\n",
        "\n",
        "-|Guadalajara|León|Morelia\n",
        ":----|----|----|----\n",
        "Planta 1|5|2|7\n",
        "Planta 2|3|6|6\n",
        "Planta 3|6|1|2\n",
        "\n",
        "Y por último, las restricciones del problema, van a estar dadas por las capacidades de oferta y demanda de cada planta (en millones de KW) y cada ciudad.\n",
        "\n",
        "Para simplificar la notación use las siguientes variables:\n",
        "\n",
        "+ $x_1$: Kw (en millones) distribuidos de la Planta 1 a Guadalajara\n",
        "+ $x_2$: Kw (en millones) distribuidos de la Planta 1 a León\n",
        "+ $x_3$: Kw (en millones) distribuidos de la Planta 1 a Morelia\n",
        "+ $x_4$: Kw (en millones) distribuidos de la Planta 2 a Guadalajara\n",
        "+ $x_5$: Kw (en millones) distribuidos de la Planta 2 a León\n",
        "+ $x_6$: Kw (en millones) distribuidos de la Planta 2 a Morelia\n",
        "+ $x_7$: Kw (en millones) distribuidos de la Planta 3 a Guadalajara\n",
        "+ $x_8$: Kw (en millones) distribuidos de la Planta 3 a León\n",
        "+ $x_9$: Kw (en millones) distribuidos de la Planta 3 a Morelia\n",
        "\n",
        "La tarea consiste en plantear el problema de programación lineal que permita satisfacer las necesidades de todas las ciudades al tiempo que minimice los costos asociados a la distribución y resolverlo con `linprog`."
      ]
    },
    {
      "cell_type": "markdown",
      "source": [
        "$x_1+x_2+x_3+x_4+x_5+x_6+x_7+x_8+x_9=180\\ kw$\n",
        "\n",
        "$5x_1+3x_4+6x_7=70$\n",
        "\n",
        "$2x_2+6x_5+x_8=40$\n",
        "\n",
        "$7x_3+6x_6+2x_9=70$\n",
        "\n",
        "$x_1+x_4+x_7=80$\n",
        "\n",
        "$x_2+x_5+x_8=40$\n",
        "\n",
        "$x_3+x_6+x_9=60$"
      ],
      "metadata": {
        "id": "loogL9Fk-xcu"
      }
    },
    {
      "cell_type": "code",
      "execution_count": 64,
      "metadata": {
        "id": "p_iF5R57OmSa"
      },
      "outputs": [],
      "source": [
        "c = np.array([5, 2, 7, 3, 6, 6, 6, 1, 2]) # Costs of sending electricity\n",
        "A_eq = np.array([\n",
        "    [1, 1, 1, 0, 0, 0, 0, 0, 0],\n",
        "    [0, 0, 0, 1, 1, 1, 0, 0, 0],\n",
        "    [0, 0, 0, 0, 0, 0, 1, 1, 1],\n",
        "    [1, 0, 0, 1, 0, 0, 1, 0, 0],\n",
        "    [0, 1, 0, 0, 1, 0, 0, 1, 0],\n",
        "    [0, 0, 1, 0, 0, 1, 0, 0, 1]\n",
        "])\n",
        "\n",
        "b_eq = np.array([80, 40, 60, 70, 40, 70])\n",
        "\n"
      ]
    },
    {
      "cell_type": "code",
      "source": [
        "opt.linprog(c, A_eq=A_eq, b_eq=b_eq)\n",
        "\n"
      ],
      "metadata": {
        "colab": {
          "base_uri": "https://localhost:8080/"
        },
        "id": "ZLbaSIoFeygr",
        "outputId": "24ab6de6-9eba-43b6-c903-64f515528c9c"
      },
      "execution_count": 65,
      "outputs": [
        {
          "output_type": "execute_result",
          "data": {
            "text/plain": [
              "        message: Optimization terminated successfully. (HiGHS Status 7: Optimal)\n",
              "        success: True\n",
              "         status: 0\n",
              "            fun: 540.0\n",
              "              x: [ 3.000e+01  4.000e+01  1.000e+01  4.000e+01  0.000e+00\n",
              "                   0.000e+00  0.000e+00  0.000e+00  6.000e+01]\n",
              "            nit: 5\n",
              "          lower:  residual: [ 3.000e+01  4.000e+01  1.000e+01  4.000e+01\n",
              "                              0.000e+00  0.000e+00  0.000e+00  0.000e+00\n",
              "                              6.000e+01]\n",
              "                 marginals: [ 0.000e+00  0.000e+00  0.000e+00  0.000e+00\n",
              "                              6.000e+00  1.000e+00  6.000e+00  4.000e+00\n",
              "                              0.000e+00]\n",
              "          upper:  residual: [       inf        inf        inf        inf\n",
              "                                    inf        inf        inf        inf\n",
              "                                    inf]\n",
              "                 marginals: [ 0.000e+00  0.000e+00  0.000e+00  0.000e+00\n",
              "                              0.000e+00  0.000e+00  0.000e+00  0.000e+00\n",
              "                              0.000e+00]\n",
              "          eqlin:  residual: [ 0.000e+00  0.000e+00  0.000e+00  0.000e+00\n",
              "                              0.000e+00  0.000e+00]\n",
              "                 marginals: [ 5.000e+00  3.000e+00 -0.000e+00 -0.000e+00\n",
              "                             -3.000e+00  2.000e+00]\n",
              "        ineqlin:  residual: []\n",
              "                 marginals: []\n",
              " mip_node_count: 0\n",
              " mip_dual_bound: 0.0\n",
              "        mip_gap: 0.0"
            ]
          },
          "metadata": {},
          "execution_count": 65
        }
      ]
    },
    {
      "cell_type": "markdown",
      "source": [
        "**Resultado**\n",
        "\n",
        "$x_1=30\\ x_2=40\\ x_3=10\\ x_4=40\\ x_5=0\\ x_6=0\\ x_7=0\\ x_8=0\\ x_9=60$"
      ],
      "metadata": {
        "id": "yjYctLtKxfQ2"
      }
    },
    {
      "cell_type": "markdown",
      "metadata": {
        "id": "0UMNt7CgOmSa"
      },
      "source": [
        "### Fábrica de focos\n",
        "\n",
        "Una fábrica produce focos incandesentes y los vende a 4.5 u.m., además de focos ahorradores que vende a 6 u.m. cada uno. La producción está limitada a 400 focos incandesentes y 300 focos ahorradores al día, además de no poder producir más de 500 focos en total.\n",
        "\n",
        "Si la fábrica vende toda su producción, determina cuántos focos incandesentes y cuántos focos ahorradores debe producir para obtener los máximos ingresos posibles y cuáles serían éstos."
      ]
    },
    {
      "cell_type": "markdown",
      "source": [],
      "metadata": {
        "id": "nzst-CjZW6Sg"
      }
    },
    {
      "cell_type": "code",
      "execution_count": 70,
      "metadata": {
        "id": "9JzV4BuPOmSb"
      },
      "outputs": [],
      "source": [
        "c = np.array([-4.5, -6])\n",
        "A= np.array([[1, 0], [0, 1], [1, 1]])\n",
        "b = np.array([400, 300, 500])"
      ]
    },
    {
      "cell_type": "code",
      "source": [
        "opt.linprog(c, A_ub=A, b_ub=b)"
      ],
      "metadata": {
        "colab": {
          "base_uri": "https://localhost:8080/"
        },
        "id": "01CPyoaWwx4N",
        "outputId": "0385fe26-0ca9-4827-bd7a-0a5da46cf366"
      },
      "execution_count": 71,
      "outputs": [
        {
          "output_type": "execute_result",
          "data": {
            "text/plain": [
              "        message: Optimization terminated successfully. (HiGHS Status 7: Optimal)\n",
              "        success: True\n",
              "         status: 0\n",
              "            fun: -2700.0\n",
              "              x: [ 2.000e+02  3.000e+02]\n",
              "            nit: 1\n",
              "          lower:  residual: [ 2.000e+02  3.000e+02]\n",
              "                 marginals: [ 0.000e+00  0.000e+00]\n",
              "          upper:  residual: [       inf        inf]\n",
              "                 marginals: [ 0.000e+00  0.000e+00]\n",
              "          eqlin:  residual: []\n",
              "                 marginals: []\n",
              "        ineqlin:  residual: [ 2.000e+02  0.000e+00  0.000e+00]\n",
              "                 marginals: [-0.000e+00 -1.500e+00 -4.500e+00]\n",
              " mip_node_count: 0\n",
              " mip_dual_bound: 0.0\n",
              "        mip_gap: 0.0"
            ]
          },
          "metadata": {},
          "execution_count": 71
        }
      ]
    },
    {
      "cell_type": "markdown",
      "source": [
        "**Resultado**\n",
        "\n",
        "Doscientos incandesentes, trescientos ahorradores"
      ],
      "metadata": {
        "id": "Z7gqJuHbzcGw"
      }
    },
    {
      "cell_type": "markdown",
      "metadata": {
        "id": "r9KoFGqMOmSe"
      },
      "source": [
        "### Problema de compra al mayoreo\n",
        "Un frutero necesita 16 cajas de naranjas, 5 de plátanos y 20 de manzanas. Dos mayoristas pueden suministrarle para satisfacer sus necesidades, pero sólo venden la fruta en contenedores completos. El mayorista A envía en cada contenedor 8 cajas de naranjas, 1 de plátanos y 2 de manzanas. El mayorista B envía en cada contenedor 2 cajas de naranjas, una de plátanos y 7 de manzanas. Sabiendo que cada contenedor del mayorista A tiene un costo de 150 u.m. y el contenedor del mayorista B de 300 u.m., calcular cuántos contenedores habrá de comprar a cada mayorista, con objeto de reducir al mínimo el costo de lo solicitado."
      ]
    },
    {
      "cell_type": "markdown",
      "source": [
        "$total=16x_1+5x_2+20x_3$\n",
        "\n",
        "$8x_1+x_2+2x_3=150$\n",
        "\n",
        "$2x_1+x_2+7x_3=300$"
      ],
      "metadata": {
        "id": "_ffznAHv_Y8b"
      }
    },
    {
      "cell_type": "code",
      "execution_count": 68,
      "metadata": {
        "id": "iUrCFqQPOmSf"
      },
      "outputs": [],
      "source": [
        "c = np.array([150, 300])\n",
        "A_ub = np.array([\n",
        "    [-8, -2],\n",
        "    [-1, -1],\n",
        "    [-2, -7]\n",
        "])\n",
        "\n",
        "b_ub = np.array([-16, -5, -20])"
      ]
    },
    {
      "cell_type": "code",
      "source": [
        "opt.linprog(c, A_ub=A_ub, b_ub=b_ub,)\n"
      ],
      "metadata": {
        "colab": {
          "base_uri": "https://localhost:8080/"
        },
        "id": "eIdhzOsOIQu3",
        "outputId": "44862d83-8cad-4e62-85b8-90d424a23917"
      },
      "execution_count": 69,
      "outputs": [
        {
          "output_type": "execute_result",
          "data": {
            "text/plain": [
              "        message: Optimization terminated successfully. (HiGHS Status 7: Optimal)\n",
              "        success: True\n",
              "         status: 0\n",
              "            fun: 1050.0\n",
              "              x: [ 3.000e+00  2.000e+00]\n",
              "            nit: 3\n",
              "          lower:  residual: [ 3.000e+00  2.000e+00]\n",
              "                 marginals: [ 0.000e+00  0.000e+00]\n",
              "          upper:  residual: [       inf        inf]\n",
              "                 marginals: [ 0.000e+00  0.000e+00]\n",
              "          eqlin:  residual: []\n",
              "                 marginals: []\n",
              "        ineqlin:  residual: [ 1.200e+01  0.000e+00  0.000e+00]\n",
              "                 marginals: [-0.000e+00 -9.000e+01 -3.000e+01]\n",
              " mip_node_count: 0\n",
              " mip_dual_bound: 0.0\n",
              "        mip_gap: 0.0"
            ]
          },
          "metadata": {},
          "execution_count": 69
        }
      ]
    },
    {
      "cell_type": "markdown",
      "source": [
        "**Resultado**\n",
        "\n",
        "Tres del A y dos del B"
      ],
      "metadata": {
        "id": "6JyX1lvZIaq4"
      }
    }
  ],
  "metadata": {
    "kernelspec": {
      "display_name": "Python 3 (ipykernel)",
      "language": "python",
      "name": "python3"
    },
    "language_info": {
      "codemirror_mode": {
        "name": "ipython",
        "version": 3
      },
      "file_extension": ".py",
      "mimetype": "text/x-python",
      "name": "python",
      "nbconvert_exporter": "python",
      "pygments_lexer": "ipython3",
      "version": "3.9.12"
    },
    "colab": {
      "provenance": [],
      "include_colab_link": true
    }
  },
  "nbformat": 4,
  "nbformat_minor": 0
}