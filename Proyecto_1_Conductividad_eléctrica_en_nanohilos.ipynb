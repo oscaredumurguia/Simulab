{
  "nbformat": 4,
  "nbformat_minor": 0,
  "metadata": {
    "colab": {
      "provenance": [],
      "authorship_tag": "ABX9TyPV1dbBaAV8h8py0KPnXOX1",
      "include_colab_link": true
    },
    "kernelspec": {
      "name": "python3",
      "display_name": "Python 3"
    },
    "language_info": {
      "name": "python"
    }
  },
  "cells": [
    {
      "cell_type": "markdown",
      "metadata": {
        "id": "view-in-github",
        "colab_type": "text"
      },
      "source": [
        "<a href=\"https://colab.research.google.com/github/oscaredumurguia/Simulab/blob/main/Proyecto_1_Conductividad_el%C3%A9ctrica_en_nanohilos.ipynb\" target=\"_parent\"><img src=\"https://colab.research.google.com/assets/colab-badge.svg\" alt=\"Open In Colab\"/></a>"
      ]
    },
    {
      "cell_type": "markdown",
      "source": [
        "# **Conductividad en nanohilos**\n",
        "\n"
      ],
      "metadata": {
        "id": "vsLrVg6FhYhf"
      }
    },
    {
      "cell_type": "markdown",
      "source": [
        "Los nanohilos son formaciones de tamaño nanométrica los cuales tienen multiple propiedades y formas, dependiendo del tamaño, material y si es circular o rectangular por eso hemos decidido facilitar el calculo de una de sus propiedades más básicas las cual es su conductividad térmica."
      ],
      "metadata": {
        "id": "7QENYUTpG9lO"
      }
    },
    {
      "cell_type": "markdown",
      "source": [
        "\n",
        "\n",
        "*   Oscar Eduardo Murguía Zamora\n",
        "*   Victor Alfredo Pasaye Esquivel\n",
        "\n"
      ],
      "metadata": {
        "id": "u0Y8L0ewQoyd"
      }
    },
    {
      "cell_type": "code",
      "source": [
        "import sympy as sym\n",
        "\n",
        "# 1. Área transversal (a partir del diámetro)\n",
        "def area_transversal(diametro):\n",
        "    return sym.pi * (diametro / 2)**2"
      ],
      "metadata": {
        "id": "7glHy5iF30dV"
      },
      "execution_count": 83,
      "outputs": []
    },
    {
      "cell_type": "code",
      "source": [
        "# 2. Resistividad cálculo\n",
        "def resistividad(resistividades_materiales, material, lambda_mfp, diametro):\n",
        "    resistividad = (resistividades_materiales[material] *(1 + 3*lambda_mfp/(8*diametro)))\n",
        "    return resistividad"
      ],
      "metadata": {
        "id": "PT7BiNuDKqJ7"
      },
      "execution_count": null,
      "outputs": []
    },
    {
      "cell_type": "code",
      "source": [
        "# 3. Resistencia medida con V e I\n",
        "def resistencia_por_voltaje_corriente(voltaje, corriente):\n",
        "    return voltaje / corriente"
      ],
      "metadata": {
        "id": "GGZ-0HoY38jE"
      },
      "execution_count": null,
      "outputs": []
    },
    {
      "cell_type": "code",
      "source": [
        "# 4. Conductividad a partir de medición experimental\n",
        "def conductividad_por_medicion(longitud, diametro, resistencia):\n",
        "    area = area_transversal(diametro)\n",
        "    return longitud / (area * resistencia)"
      ],
      "metadata": {
        "id": "UE1Nlhj734O8"
      },
      "execution_count": null,
      "outputs": []
    },
    {
      "cell_type": "code",
      "source": [
        "# 5. Resistividad y conductividad inversa\n",
        "def conductividad_por_resistividad(resistividad):\n",
        "    return 1 / resistividad"
      ],
      "metadata": {
        "id": "0aLJ73Ta3668"
      },
      "execution_count": null,
      "outputs": []
    },
    {
      "cell_type": "code",
      "source": [
        "# 6. Conductividad por resistencia voltaje\n",
        "def conductividad_por_voltaje(voltaje, resistencia_por_voltaje_corriente):\n",
        "    return voltaje / resistencia_por_voltaje_corriente"
      ],
      "metadata": {
        "id": "zdgI9GOH6z2v"
      },
      "execution_count": null,
      "outputs": []
    },
    {
      "cell_type": "code",
      "source": [
        "# 7. Optimización de conductividad\n",
        "resistividades_materiales_sym, diametro_sym, lambda_mfp_sym, material_sym = sym.symbols('resistividades_materiales diametro lambda_mfp material')\n",
        "rho_bulk_sym = sym.symbols('rho_bulk')\n",
        "rho_final_sym = rho_bulk_sym * (1+(3*lambda_mfp_sym)/(8*diametro_sym))\n",
        "conductividad_sym = 1 / rho_final_sym\n",
        "derivada_conductividad_respecto_diametro = sym.diff(conductividad_sym, diametro_sym)\n",
        "\n",
        "print(\"La derivada es\")\n",
        "display(derivada_conductividad_respecto_diametro)"
      ],
      "metadata": {
        "colab": {
          "base_uri": "https://localhost:8080/",
          "height": 90
        },
        "id": "zoXw88OSHLiT",
        "outputId": "1dd4e2fd-869a-4e10-f68a-64500478f20e"
      },
      "execution_count": 94,
      "outputs": [
        {
          "output_type": "stream",
          "name": "stdout",
          "text": [
            "La derivada es\n"
          ]
        },
        {
          "output_type": "display_data",
          "data": {
            "text/plain": [
              "3*lambda_mfp/(8*diametro**2*rho_bulk*(1 + 3*lambda_mfp/(8*diametro))**2)"
            ],
            "text/latex": "$\\displaystyle \\frac{3 \\lambda_{mfp}}{8 diametro^{2} \\rho_{bulk} \\left(1 + \\frac{3 \\lambda_{mfp}}{8 diametro}\\right)^{2}}$"
          },
          "metadata": {}
        }
      ]
    },
    {
      "cell_type": "code",
      "source": [
        "diametro_optimo = sym.solve(sym.Eq(derivada_conductividad_respecto_diametro, 0), diametro_sym)\n",
        "display(diametro_optimo)"
      ],
      "metadata": {
        "colab": {
          "base_uri": "https://localhost:8080/",
          "height": 34
        },
        "id": "EVISDlAXHO2e",
        "outputId": "bcf4d4ac-3063-4f5a-fb55-eb12635a1f07"
      },
      "execution_count": 93,
      "outputs": [
        {
          "output_type": "display_data",
          "data": {
            "text/plain": [
              "[]"
            ]
          },
          "metadata": {}
        }
      ]
    },
    {
      "cell_type": "markdown",
      "source": [
        "**Resultado**\n",
        "\n",
        "El resultado que nos dio esta derivada es 0 por lo que no hay un maximo en cuanto a lo que tenga que ver con esta ecuación específica, la conductividad incrementa dependiendo del tamaño del diametro"
      ],
      "metadata": {
        "id": "91Jgsqc246xv"
      }
    },
    {
      "cell_type": "code",
      "source": [
        "resistividades_materiales = {\n",
        "    \"plata\": 1.59e-8,\n",
        "    \"cobre\": 1.68e-8,\n",
        "    \"oro\": 2.44e-8,\n",
        "    \"aluminio\": 2.82e-8,\n",
        "    \"wolframio\": 5.60e-8,\n",
        "    \"hierro\": 9.71e-8,\n",
        "    \"platino\": 1.06e-7,\n",
        "    \"níquel\": 6.99e-8,\n",
        "    \"titanio\": 4.20e-7,\n",
        "    \"grafito\": 3.5e-5,\n",
        "    \"silicio_intrínseco\": 2.3e3,\n",
        "    \"germanio_intrínseco\": 4.6e-1\n",
        "}"
      ],
      "metadata": {
        "id": "txDKKTHA5Jh8"
      },
      "execution_count": null,
      "outputs": []
    },
    {
      "cell_type": "markdown",
      "source": [
        "Ya con esto la gente que quiera usarlos puede tener una interfaz dependiendo de lo que quieran calcular, explicando que materiales hay disponibles, o si quieren calcular con los datos dados, esto ya es de una manera optimizada en cuanto a la ecuación por resistencia"
      ],
      "metadata": {
        "id": "x_dd7i6I8CcN"
      }
    },
    {
      "cell_type": "code",
      "source": [
        "while True:\n",
        "    print(\"\\n--- Menú de Opciones ---\")\n",
        "    print(\"1. Conductividad mediciones\")\n",
        "    print(\"2. Conductividad por resistencia\")\n",
        "    print(\"3. Conductividad por voltaje\")\n",
        "    print(\"4. Salir\")\n",
        "\n",
        "    eleccion = input(\"Ingresa tu elección: \")\n",
        "\n",
        "    if eleccion == \"1\":\n",
        "        print(\"Ingresar datos\")\n",
        "        longitud = float(input(\"Longitud: \"))\n",
        "        diametro = float(input(\"Diametro: \"))\n",
        "        resistencia = float(input(\"Resistencia: \"))\n",
        "        print(f\"Conductividad: {conductividad_por_medicion(longitud, diametro, resistencia)}\")\n",
        "\n",
        "    elif eleccion == \"2\":\n",
        "        print(\"Has seleccionado la opción dos\")\n",
        "        while True:\n",
        "          print(\"\\n--- Menú de Opciones ---\")\n",
        "          print(\"1. Ingresar material\")\n",
        "          print(\"2. Lista de materiales\")\n",
        "          print(\"3. Salir\")\n",
        "          eleccion = input(\"Ingresa tu elección: \")\n",
        "          if eleccion == \"1\":\n",
        "            print(\"Ingresar datos\")\n",
        "            material = input(\"Material: \")\n",
        "            if material in resistividades_materiales:\n",
        "              diametro = float(input(\"Diametro: \"))\n",
        "              lambda_mfp = float(input(\"Lambda mfp: \"))\n",
        "              print(f\"Conductividad: {conductividad_por_resistividad(resistividad(resistividades_materiales, material, lambda_mfp, diametro))}\")\n",
        "              break\n",
        "            else:\n",
        "              print(\"Material no encontrado en la lista. Por favor, elige un material válido.\")\n",
        "          elif eleccion == \"2\":\n",
        "            print(\"Lista de materiales:\")\n",
        "            for material, resistividad in resistividades_materiales.items():\n",
        "              print(f\"{material}: {resistividad}\")\n",
        "          elif eleccion == \"3\":\n",
        "            break\n",
        "          else:\n",
        "            print(\"Opción no válida. Por favor, elige una opción del menú.\")\n",
        "\n",
        "    elif eleccion == \"3\":\n",
        "        print(\"Ingresar datos\")\n",
        "        voltaje = float(input(\"Voltaje: \"))\n",
        "        corriente = float(input(\"Corriente: \"))\n",
        "        print(f\"Conductividad: {conductividad_por_voltaje(voltaje, resistencia_por_voltaje_corriente(voltaje, corriente))}\")\n",
        "\n",
        "    elif eleccion == \"4\":\n",
        "        print(\"bye\")\n",
        "        break\n",
        "    else:\n",
        "        print(\"Opción no válida. Por favor, elige una opción del menú.\")"
      ],
      "metadata": {
        "colab": {
          "base_uri": "https://localhost:8080/"
        },
        "id": "fR8dO8Ox8Zp1",
        "outputId": "5d4a241f-58e3-4334-964b-d8705482ebee"
      },
      "execution_count": 96,
      "outputs": [
        {
          "output_type": "stream",
          "name": "stdout",
          "text": [
            "\n",
            "--- Menú de Opciones ---\n",
            "1. Conductividad mediciones\n",
            "2. Conductividad por resistencia\n",
            "3. Conductividad por voltaje\n",
            "4. Salir\n",
            "Ingresa tu elección: 1\n",
            "Ingresar datos\n",
            "Longitud: 150\n",
            "Diametro: 25\n",
            "Resistencia: 620\n",
            "Conductividad: 0.00154838709677419/pi\n",
            "\n",
            "--- Menú de Opciones ---\n",
            "1. Conductividad mediciones\n",
            "2. Conductividad por resistencia\n",
            "3. Conductividad por voltaje\n",
            "4. Salir\n",
            "Ingresa tu elección: 4\n",
            "bye\n"
          ]
        }
      ]
    }
  ]
}